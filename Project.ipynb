{
  "nbformat": 4,
  "nbformat_minor": 0,
  "metadata": {
    "colab": {
      "name": "Project",
      "provenance": []
    },
    "kernelspec": {
      "name": "python3",
      "display_name": "Python 3"
    },
    "language_info": {
      "name": "python"
    }
  },
  "cells": [
    {
      "cell_type": "code",
      "metadata": {
        "id": "kM2ysbTqGy1f",
        "colab": {
          "base_uri": "https://localhost:8080/"
        },
        "outputId": "123a7cd8-2394-4470-e520-6354295304a3"
      },
      "source": [
        "from google.colab import drive\n",
        "drive.mount('/content/gdrive')"
      ],
      "execution_count": null,
      "outputs": [
        {
          "output_type": "stream",
          "text": [
            "Mounted at /content/gdrive\n"
          ],
          "name": "stdout"
        }
      ]
    },
    {
      "cell_type": "code",
      "metadata": {
        "id": "0HFavy3IG3HV"
      },
      "source": [
        "import os\n",
        "os.environ['KAGGLE_CONFIG_DIR'] = '/content/gdrive/MyDrive/kaggle_datasets'"
      ],
      "execution_count": null,
      "outputs": []
    },
    {
      "cell_type": "code",
      "metadata": {
        "colab": {
          "base_uri": "https://localhost:8080/"
        },
        "id": "8zfebCR9IB-V",
        "outputId": "72e66dfe-59e8-4d5d-b9b4-a734d0bfa864"
      },
      "source": [
        "%cd /content/gdrive/MyDrive/kaggle_datasets"
      ],
      "execution_count": null,
      "outputs": [
        {
          "output_type": "stream",
          "text": [
            "/content/gdrive/MyDrive/kaggle_datasets\n"
          ],
          "name": "stdout"
        }
      ]
    },
    {
      "cell_type": "code",
      "metadata": {
        "id": "Pwa7Hzq3KzMJ",
        "colab": {
          "base_uri": "https://localhost:8080/"
        },
        "outputId": "3de3243d-6b91-42a7-a19a-57215f2e6e03"
      },
      "source": [
        "!ls"
      ],
      "execution_count": null,
      "outputs": [
        {
          "output_type": "stream",
          "text": [
            "chest_xray  kaggle.json\n"
          ],
          "name": "stdout"
        }
      ]
    },
    {
      "cell_type": "code",
      "metadata": {
        "id": "GsXEIH0oNhG4"
      },
      "source": [
        "#!kaggle datasets download -d paultimothymooney/chest-xray-pneumonia"
      ],
      "execution_count": null,
      "outputs": []
    },
    {
      "cell_type": "code",
      "metadata": {
        "id": "mB4BhW6NNW0L"
      },
      "source": [
        "#!unzip chest-xray-pneumonia.zip"
      ],
      "execution_count": null,
      "outputs": []
    },
    {
      "cell_type": "code",
      "metadata": {
        "id": "IWn3RZOrTXOr"
      },
      "source": [
        "import numpy as np \n",
        "import pandas as pd\n",
        "import numpy as np\n",
        "import cv2\n",
        "import matplotlib.pyplot as plt\n",
        "import os"
      ],
      "execution_count": null,
      "outputs": []
    },
    {
      "cell_type": "code",
      "metadata": {
        "id": "-XNTLAcAUE5w"
      },
      "source": [
        "import tensorflow as tf\n",
        "from keras.preprocessing.image import ImageDataGenerator\n",
        "from tensorflow import keras as keras\n",
        "from keras.layers import Dropout\n"
      ],
      "execution_count": null,
      "outputs": []
    },
    {
      "cell_type": "code",
      "metadata": {
        "id": "x7Ql6P8vUJ4u"
      },
      "source": [
        "DIRECTORY = r'/content/gdrive/MyDrive/kaggle_datasets/chest_xray'\n",
        "FOLDERS = ['test','train', 'val']\n",
        "\n",
        "CLASS = ['NORMAL','PNEUMONIA']\n"
      ],
      "execution_count": null,
      "outputs": []
    },
    {
      "cell_type": "code",
      "metadata": {
        "id": "RJVEJ_F5Vwgq"
      },
      "source": [
        "IMAGE_SIZE = (224, 224, 3) \n",
        "\n",
        "def preprocess_data(train, test):\n",
        "    generator = keras.preprocessing.image.ImageDataGenerator()\n",
        "\n",
        "    train_dataset = generator.flow_from_directory(batch_size = 32,\n",
        "    directory = train,\n",
        "    shuffle = True,\n",
        "    target_size = IMAGE_SIZE[:2],\n",
        "    class_mode = 'binary'\n",
        "    )\n",
        "\n",
        "    val_dataset = generator.flow_from_directory(batch_size = 32,\n",
        "    directory = test,\n",
        "    shuffle = True,\n",
        "    target_size = IMAGE_SIZE[:2],\n",
        "    class_mode = 'binary'\n",
        "    )\n",
        "    return train_dataset, val_dataset\n"
      ],
      "execution_count": null,
      "outputs": []
    },
    {
      "cell_type": "code",
      "metadata": {
        "colab": {
          "base_uri": "https://localhost:8080/"
        },
        "id": "aunexEWSXlfB",
        "outputId": "d3225ba9-6bc2-439d-ec0e-bc1f98ff961d"
      },
      "source": [
        "train_generator, test_generator = preprocess_data('/content/gdrive/MyDrive/kaggle_datasets/chest_xray/train',\n",
        "                                                  '/content/gdrive/MyDrive/kaggle_datasets/chest_xray/test')\n"
      ],
      "execution_count": null,
      "outputs": [
        {
          "output_type": "stream",
          "text": [
            "Found 5216 images belonging to 2 classes.\n",
            "Found 624 images belonging to 2 classes.\n"
          ],
          "name": "stdout"
        }
      ]
    },
    {
      "cell_type": "code",
      "metadata": {
        "id": "r9i8TS0eYAwc"
      },
      "source": [
        "base_model = tf.keras.applications.EfficientNetB0(\n",
        "                                            include_top = False,\n",
        "                                            weights = 'imagenet')\n"
      ],
      "execution_count": null,
      "outputs": []
    },
    {
      "cell_type": "code",
      "metadata": {
        "id": "CeP3c9tGxkX9"
      },
      "source": [
        "base_model.trainable = False\n",
        "inputs = keras.Input(shape=IMAGE_SIZE)  \n",
        "x = base_model(inputs) \n",
        "x = keras.layers.Conv2D(128, 3, activation = 'relu')(x) \n",
        "x = keras.layers.GlobalAveragePooling2D()(x) \n",
        "x = keras.layers.Dropout(.2)(x)\n",
        "outputs = keras.layers.Dense(1, activation='sigmoid')(x)"
      ],
      "execution_count": null,
      "outputs": []
    },
    {
      "cell_type": "markdown",
      "metadata": {
        "id": "0m7vA0KsZAJt"
      },
      "source": [
        ""
      ]
    },
    {
      "cell_type": "code",
      "metadata": {
        "id": "eMTJIgPIZIpf"
      },
      "source": [
        "model = keras.Model(inputs, outputs)"
      ],
      "execution_count": null,
      "outputs": []
    },
    {
      "cell_type": "code",
      "metadata": {
        "colab": {
          "base_uri": "https://localhost:8080/"
        },
        "id": "w_1_CASbZLs3",
        "outputId": "4e54470a-e9d5-4d71-bb3f-4365d9244b2e"
      },
      "source": [
        "model.summary()"
      ],
      "execution_count": null,
      "outputs": [
        {
          "output_type": "stream",
          "text": [
            "Model: \"model\"\n",
            "_________________________________________________________________\n",
            "Layer (type)                 Output Shape              Param #   \n",
            "=================================================================\n",
            "input_2 (InputLayer)         [(None, 224, 224, 3)]     0         \n",
            "_________________________________________________________________\n",
            "efficientnetb0 (Functional)  (None, None, None, 1280)  4049571   \n",
            "_________________________________________________________________\n",
            "conv2d (Conv2D)              (None, 5, 5, 128)         1474688   \n",
            "_________________________________________________________________\n",
            "global_average_pooling2d (Gl (None, 128)               0         \n",
            "_________________________________________________________________\n",
            "dropout (Dropout)            (None, 128)               0         \n",
            "_________________________________________________________________\n",
            "dense (Dense)                (None, 1)                 129       \n",
            "=================================================================\n",
            "Total params: 5,524,388\n",
            "Trainable params: 1,474,817\n",
            "Non-trainable params: 4,049,571\n",
            "_________________________________________________________________\n"
          ],
          "name": "stdout"
        }
      ]
    },
    {
      "cell_type": "code",
      "metadata": {
        "id": "R9FYthw0ZN2_"
      },
      "source": [
        "model.compile(optimizer = keras.optimizers.Adam(), loss = 'binary_crossentropy', metrics = ['accuracy'])"
      ],
      "execution_count": null,
      "outputs": []
    },
    {
      "cell_type": "code",
      "metadata": {
        "colab": {
          "base_uri": "https://localhost:8080/"
        },
        "id": "fI2OI1itZTO_",
        "outputId": "2137d541-d41b-4ade-a713-6192082465ca"
      },
      "source": [
        "model.fit(train_generator, epochs = 2, validation_data = test_generator)"
      ],
      "execution_count": null,
      "outputs": [
        {
          "output_type": "stream",
          "text": [
            "Epoch 1/2\n",
            "163/163 [==============================] - ETA: 0s - loss: 0.4011 - accuracy: 0.8760"
          ],
          "name": "stdout"
        }
      ]
    },
    {
      "cell_type": "code",
      "metadata": {
        "id": "G2S--J6RgTh6"
      },
      "source": [
        "model.evaluate(test_generator)"
      ],
      "execution_count": null,
      "outputs": []
    },
    {
      "cell_type": "code",
      "metadata": {
        "id": "jv8UGh2SZXGV"
      },
      "source": [
        "model.save('PneuNetV2.h5')"
      ],
      "execution_count": null,
      "outputs": []
    },
    {
      "cell_type": "markdown",
      "metadata": {
        "id": "uVQxmNw7f-D2"
      },
      "source": [
        ""
      ]
    },
    {
      "cell_type": "code",
      "metadata": {
        "id": "cdbciiVxflX-"
      },
      "source": [
        "converter = tf.lite.TFLiteConverter.from_keras_model(model)\n",
        "tflite_model = converter.convert()"
      ],
      "execution_count": null,
      "outputs": []
    },
    {
      "cell_type": "code",
      "metadata": {
        "id": "1ozSKjfdfoj5"
      },
      "source": [
        "with open('PneuNetV2_Lite.tflite', 'wb') as f:\n",
        "  f.write(tflite_model)"
      ],
      "execution_count": null,
      "outputs": []
    },
    {
      "cell_type": "code",
      "metadata": {
        "id": "H7TbJWYaf6Fs"
      },
      "source": [
        ""
      ],
      "execution_count": null,
      "outputs": []
    }
  ]
}