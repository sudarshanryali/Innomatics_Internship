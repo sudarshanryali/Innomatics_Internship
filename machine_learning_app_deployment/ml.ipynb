{
 "cells": [
  {
   "cell_type": "code",
   "execution_count": 1,
   "metadata": {},
   "outputs": [],
   "source": [
    "import streamlit as st\n",
    "import numpy as np\n",
    "from sklearn.svm import SVC\n",
    "from pickle import dump, load"
   ]
  },
  {
   "cell_type": "code",
   "execution_count": 14,
   "metadata": {},
   "outputs": [],
   "source": [
    "import streamlit as st"
   ]
  },
  {
   "cell_type": "code",
   "execution_count": 8,
   "metadata": {},
   "outputs": [],
   "source": [
    "from pickle import dump, load\n",
    "\n",
    "def predict(arr):\n",
    "\n",
    "    # Loading pretrained svm_rbf classifier from pickle file\n",
    "    classifier = load(open('svmRBF_Model.pickle', 'rb'))\n",
    "\n",
    "    # Prediction\n",
    "    prediction = classifier.predict(arr)\n",
    "\n",
    "    return prediction"
   ]
  },
  {
   "cell_type": "code",
   "execution_count": 9,
   "metadata": {},
   "outputs": [],
   "source": [
    "def main():\n",
    "    Value_1=st.number_input('Enter Value_1 :')\n",
    "    Value_2=st.number_input('Enter Value_2 :')\n",
    "    arr = np.array([Value_1,Value_2]).reshape(1,-1)\n",
    "\n",
    "    prediction = predict(arr)\n",
    "    click = st.button(\"SUBMIT\")\n",
    "\n",
    "    if click:\n",
    "        if(arr.any()):\n",
    "            st.subheader(\"Prediction:\")\n",
    "        if(prediction == 0):\n",
    "            st.write(\"Negative :cry:\")\n",
    "        else:\n",
    "            st.write(\"Positive :sunglasses:\")\n",
    "\n",
    "\n",
    "\n"
   ]
  },
  {
   "cell_type": "code",
   "execution_count": 10,
   "metadata": {},
   "outputs": [],
   "source": [
    "if(__name__ == '__main__'):\n",
    "    main()"
   ]
  }
 ],
 "metadata": {
  "kernelspec": {
   "display_name": "Python 3",
   "language": "python",
   "name": "python3"
  },
  "language_info": {
   "codemirror_mode": {
    "name": "ipython",
    "version": 3
   },
   "file_extension": ".py",
   "mimetype": "text/x-python",
   "name": "python",
   "nbconvert_exporter": "python",
   "pygments_lexer": "ipython3",
   "version": "3.7.3"
  }
 },
 "nbformat": 4,
 "nbformat_minor": 2
}
